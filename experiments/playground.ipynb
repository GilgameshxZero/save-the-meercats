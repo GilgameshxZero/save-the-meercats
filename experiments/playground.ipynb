{
 "cells": [
  {
   "cell_type": "code",
   "execution_count": 1,
   "metadata": {},
   "outputs": [
    {
     "name": "stderr",
     "output_type": "stream",
     "text": [
      "2024-06-22 17:16:35.530038: W tensorflow/compiler/tf2tensorrt/utils/py_utils.cc:38] TF-TRT Warning: Could not find TensorRT\n"
     ]
    },
    {
     "data": {
      "text/plain": [
       "{'sequence': 'I have a problem with my iphone that needs to be resolved asap!',\n",
       " 'labels': ['urgent', 'phone', 'computer', 'not urgent', 'tablet'],\n",
       " 'scores': [0.5227576494216919,\n",
       "  0.45814043283462524,\n",
       "  0.014264858327805996,\n",
       "  0.0026850029826164246,\n",
       "  0.0021520606242120266]}"
      ]
     },
     "execution_count": 1,
     "metadata": {},
     "output_type": "execute_result"
    }
   ],
   "source": [
    "from transformers import pipeline\n",
    "\n",
    "pipe = pipeline(model=\"facebook/bart-large-mnli\", device=0)\n",
    "pipe(\"I have a problem with my iphone that needs to be resolved asap!\",\n",
    "    candidate_labels=[\"urgent\", \"not urgent\", \"phone\", \"tablet\", \"computer\"],\n",
    ")"
   ]
  },
  {
   "cell_type": "code",
   "execution_count": 2,
   "metadata": {},
   "outputs": [
    {
     "name": "stdout",
     "output_type": "stream",
     "text": [
      "ChatCompletionMessage(content='In the world of coding, there lies a loop,\\nA concept so powerful, it makes programmers swoon,\\nRecursion its name, a technique so grand,\\nTo break problems down with a helping hand.\\n\\nIt starts with a function, calling itself within,\\nCreating a cycle that seems to never thin,\\nLike a mirror reflecting into infinity,\\nRecursion dives deep, with mathematical divinity.\\n\\nEach call creates a new frame,\\nUnraveling layers like a digital game,\\nBreaking down problems into smaller bites,\\nWith each recursion, reaching new heights.\\n\\nBut beware of the endless loop,\\nA glitch in the system, a programming dupe,\\nWith careful planning and a base case secure,\\nRecursion becomes a mighty allure.\\n\\nSo venture forth into the world of code,\\nWith recursion as your powerful abode,\\nUnravel the mysteries, one function at a time,\\nAnd watch your programming skills truly shine.', role='assistant', function_call=None, tool_calls=None)\n"
     ]
    }
   ],
   "source": [
    "from openai import OpenAI\n",
    "import os\n",
    "client = OpenAI()\n",
    "\n",
    "completion = client.chat.completions.create(\n",
    "  model=\"gpt-3.5-turbo\",\n",
    "  messages=[\n",
    "    {\"role\": \"system\", \"content\": \"You are a game master, facilitating a back-and-forth game between you and the player. The player is \"},\n",
    "    {\"role\": \"user\", \"content\": \"Compose a poem that explains the concept of recursion in programming.\"}\n",
    "  ]\n",
    ")\n",
    "\n",
    "print(completion.choices[0].message)"
   ]
  },
  {
   "cell_type": "code",
   "execution_count": 3,
   "metadata": {},
   "outputs": [
    {
     "name": "stdout",
     "output_type": "stream",
     "text": [
      "ChatCompletionMessage(content='This action would take approximately 3 days to complete.', role='assistant', function_call=None, tool_calls=None)\n"
     ]
    }
   ],
   "source": [
    "completion = client.chat.completions.create(\n",
    "  model=\"gpt-3.5-turbo\",\n",
    "  messages=[\n",
    "    {\"role\": \"system\", \"content\": \"You are a helpful assistant, skilled at determining how long an action takes. The actions given to you will be actions taken by a player in a fantasy, post-apocalyptic world. You know each action takes between 1 day and 7 days to complete. Your job is to determine approximately how many days the action takes to complete.\"},\n",
    "    {\"role\": \"user\", \"content\": \"How long does the follow action take? Output only a single number representing the approximate number of days this action would take, between 1-7 inclusive.\\n\\nI sneak into MIRI’s headquarters to steal their uranium.\"}\n",
    "  ]\n",
    ")\n",
    "\n",
    "print(completion.choices[0].message)"
   ]
  },
  {
   "cell_type": "code",
   "execution_count": 4,
   "metadata": {},
   "outputs": [
    {
     "name": "stdout",
     "output_type": "stream",
     "text": [
      "ChatCompletionMessage(content='1', role='assistant', function_call=None, tool_calls=None)\n"
     ]
    }
   ],
   "source": [
    "completion = client.chat.completions.create(\n",
    "  model=\"gpt-3.5-turbo\",\n",
    "  messages=[\n",
    "    {\"role\": \"system\", \"content\": \"You are a helpful assistant, skilled at determining how long an action takes. The actions given to you will be actions taken by a player in a fantasy, post-apocalyptic world. You know each action takes between 1 day and 7 days to complete. Your job is to determine approximately how many days the action takes to complete.\"},\n",
    "    {\"role\": \"user\", \"content\": \"How long does the follow action take? Output only a single number representing the approximate number of days this action would take, between 1-7 inclusive.\\n\\nI take a sip of Diet Coke.\"}\n",
    "  ]\n",
    ")\n",
    "\n",
    "print(completion.choices[0].message)"
   ]
  },
  {
   "cell_type": "code",
   "execution_count": 5,
   "metadata": {},
   "outputs": [
    {
     "name": "stdout",
     "output_type": "stream",
     "text": [
      "ChatCompletionMessage(content='6', role='assistant', function_call=None, tool_calls=None)\n"
     ]
    }
   ],
   "source": [
    "completion = client.chat.completions.create(\n",
    "  model=\"gpt-3.5-turbo\",\n",
    "  messages=[\n",
    "    {\"role\": \"system\", \"content\": \"You are a helpful assistant, skilled at determining how long an action takes. The actions given to you will be actions taken by a player in a fantasy, post-apocalyptic world. You know each action takes between 1 day and 7 days to complete. Your job is to determine approximately how many days the action takes to complete. Output only a single number representing the number of days this action takes to complete.\"},\n",
    "    {\"role\": \"user\", \"content\": \"How long does the follow action take? Output only a single number representing the approximate number of days this action would take, between 1-7 inclusive.\\n\\nI run an ultramarathon with 3 breaks.\"}\n",
    "  ]\n",
    ")\n",
    "\n",
    "print(completion.choices[0].message)"
   ]
  },
  {
   "cell_type": "code",
   "execution_count": 6,
   "metadata": {},
   "outputs": [
    {
     "name": "stdout",
     "output_type": "stream",
     "text": [
      "ChatCompletionMessage(content='4', role='assistant', function_call=None, tool_calls=None)\n"
     ]
    }
   ],
   "source": [
    "completion = client.chat.completions.create(\n",
    "  model=\"gpt-3.5-turbo-16k\",\n",
    "  messages=[\n",
    "    {\"role\": \"system\", \"content\": \"You are a helpful assistant, skilled at determining how long an action takes. The actions given to you will be actions taken by a player in a fantasy, post-apocalyptic world. You know each action takes between 1 day and 7 days to complete. Your job is to determine approximately how many days the action takes to complete. Output only a single number representing the number of days this action takes to complete.\"},\n",
    "    {\"role\": \"user\", \"content\": \"How long does the follow action take? Output only a single number representing the approximate number of days this action would take, between 1-7 inclusive. Output only a single number between 1 and 7 and no other words.\\n\\nI take a semester-long course on number theory.\"}\n",
    "  ]\n",
    ")\n",
    "\n",
    "print(completion.choices[0].message)"
   ]
  },
  {
   "cell_type": "code",
   "execution_count": null,
   "metadata": {},
   "outputs": [],
   "source": []
  }
 ],
 "metadata": {
  "kernelspec": {
   "display_name": ".venv",
   "language": "python",
   "name": "python3"
  },
  "language_info": {
   "codemirror_mode": {
    "name": "ipython",
    "version": 3
   },
   "file_extension": ".py",
   "mimetype": "text/x-python",
   "name": "python",
   "nbconvert_exporter": "python",
   "pygments_lexer": "ipython3",
   "version": "3.11.9"
  }
 },
 "nbformat": 4,
 "nbformat_minor": 2
}
